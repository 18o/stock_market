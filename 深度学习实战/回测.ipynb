{
 "cells": [
  {
   "cell_type": "code",
   "execution_count": 1,
   "metadata": {},
   "outputs": [],
   "source": [
    "import pandas as pd\n",
    "import lightgbm as lgb\n",
    "import numpy as np\n",
    "from sklearn import metrics\n",
    "from config import config\n",
    "import os\n",
    "from tqdm import tqdm\n",
    "\n",
    "conf = config()"
   ]
  },
  {
   "cell_type": "markdown",
   "metadata": {},
   "source": [
    "# 股价数据读取"
   ]
  },
  {
   "cell_type": "code",
   "execution_count": null,
   "metadata": {},
   "outputs": [
    {
     "name": "stderr",
     "output_type": "stream",
     "text": [
      " 37%|████████████████████████████▉                                                 | 1077/2906 [00:21<00:41, 44.44it/s]"
     ]
    }
   ],
   "source": [
    "base_path = conf.base_path\n",
    "stock_path = os.path.join(base_path, 'OldData')\n",
    "company_info = pd.read_csv(os.path.join(base_path, 'company_info.csv'), encoding='gbk') # encoding='utf-8'\n",
    "company_info.drop(['index', 'symbol', 'fullname'], axis=1, inplace=True)\n",
    "\n",
    "df_list = []\n",
    "for ts_code in tqdm(company_info['ts_code']):\n",
    "    path = os.path.join(stock_path, ts_code+'_NormalData.csv')\n",
    "    df = pd.read_csv(path)\n",
    "    df = df[['trade_date', 'ts_code', 'close', 'high', 'low']]\n",
    "    df = df.sort_values('trade_date', ascending=True).reset_index(drop=True)\n",
    "    df['next_close'] = df['close'].shift(-1)\n",
    "    df_list.append(df)\n",
    "    "
   ]
  },
  {
   "cell_type": "code",
   "execution_count": 60,
   "metadata": {},
   "outputs": [],
   "source": [
    "df = pd.concat(df_list)\n",
    "del df_list\n",
    "df = df[df['trade_date']>=conf.test_date_start]\n",
    "df.dropna(inplace=True)"
   ]
  },
  {
   "cell_type": "code",
   "execution_count": 75,
   "metadata": {},
   "outputs": [],
   "source": [
    "day_list = sorted(df['trade_date'].unique())"
   ]
  },
  {
   "cell_type": "code",
   "execution_count": 155,
   "metadata": {},
   "outputs": [],
   "source": [
    "pred = pd.read_csv('pred.csv')"
   ]
  },
  {
   "cell_type": "code",
   "execution_count": 164,
   "metadata": {},
   "outputs": [],
   "source": [
    "pred['pred_label'] = pred['pred'] > 0.9\n",
    "# pred['true'] = (pred['pred_label'] == 1) & (pred['label'] == 1)"
   ]
  },
  {
   "cell_type": "code",
   "execution_count": 165,
   "metadata": {},
   "outputs": [],
   "source": [
    "buy_df = pred[pred['pred_label'] == 1]"
   ]
  },
  {
   "cell_type": "code",
   "execution_count": 166,
   "metadata": {},
   "outputs": [],
   "source": [
    "buy_df = buy_df.merge(df, on=['ts_code', 'trade_date'], how='inner')"
   ]
  },
  {
   "cell_type": "code",
   "execution_count": 167,
   "metadata": {},
   "outputs": [],
   "source": [
    "buy_df['is_limit_up'] = (buy_df['close'] == buy_df['high']) #(buy_df['close_price'] == buy_df['high']) | \n",
    "buy_df = buy_df[(buy_df['is_limit_up']==False)].reset_index(drop=True)\n",
    "buy_df['day'] = buy_df['trade_date']\n",
    "buy_df = buy_df.rename(columns={'pred':'prob', 'ts_code':'name'})\n",
    "buy_df['close_price'] = buy_df['close']"
   ]
  },
  {
   "cell_type": "code",
   "execution_count": 169,
   "metadata": {},
   "outputs": [
    {
     "name": "stdout",
     "output_type": "stream",
     "text": [
      "20190116  买入 000782.SZ (000782.SZ) 5600股，股价：4.4151,花费：24724.56,手续费：7.42，剩余现金：75268.02\n",
      "20190116  买入 002041.SZ (002041.SZ) 4400股，股价：5.61,花费：24684.0,手续费：7.41，剩余现金：50576.62\n",
      "20190116  买入 002800.SZ (002800.SZ) 1400股，股价：17.183,花费：24056.2,手续费：7.22，剩余现金：26513.2\n",
      "20190116  买入 000882.SZ (000882.SZ) 10500股，股价：2.37,花费：24885.0,手续费：7.47，剩余现金：1620.74\n",
      "20190117  止损卖出 (000782.SZ) 5600股，股价：4.3057,收入：24111.92,手续费：31.35，剩余现金：25701.31，最终亏损：-651.4\n",
      "20190117  止损卖出 (002041.SZ) 4400股，股价：5.49,收入：24156.0,手续费：31.4，剩余现金：49825.91，最终亏损：-566.81\n",
      "20190117  止损卖出 (002800.SZ) 1400股，股价：17.0331,收入：23846.34,手续费：31.0，剩余现金：73641.25，最终亏损：-248.08\n",
      "20190117  止损卖出 (000882.SZ) 10500股，股价：2.36,收入：24780.0,手续费：32.21，剩余现金：98389.03，最终亏损：-144.68\n",
      "20190125  买入 600687.SH (600687.SH) 5300股，股价：4.59,花费：24327.0,手续费：7.3，剩余现金：74054.73\n",
      "20190125  买入 002501.SZ (002501.SZ) 8500股，股价：2.87,花费：24395.0,手续费：7.32，剩余现金：49652.42\n",
      "20190125  买入 600101.SH (600101.SH) 4600股，股价：5.2832,花费：24302.72,手续费：7.29，剩余现金：25342.41\n",
      "20190125  买入 603566.SH (603566.SH) 2000股，股价：11.8273,花费：23654.6,手续费：7.1，剩余现金：1680.71\n",
      "20190128  止盈卖出 (600687.SH) 5300股，股价：4.6,收入：24380.0,手续费：31.69，剩余现金：26029.01，最终盈利：14.01\n",
      "20190128  止损卖出 (002501.SZ) 8500股，股价：2.77,收入：23545.0,手续费：30.61，剩余现金：49543.41，最终亏损：-887.93\n",
      "20190128  止损卖出 (600101.SH) 4600股，股价：5.2526,收入：24161.96,手续费：31.41，剩余现金：73673.96，最终亏损：-179.46\n",
      "20190128  止损卖出 (603566.SH) 2000股，股价：11.6808,收入：23361.6,手续费：30.37，剩余现金：97005.19，最终亏损：-330.47\n",
      "20190128  买入 603010.SH (603010.SH) 2500股，股价：9.8028,花费：24507.0,手续费：7.35，剩余现金：72490.83\n",
      "20190129  止损卖出 (603010.SH) 2500股，股价：9.3002,收入：23250.5,手续费：30.23，剩余现金：95711.11，最终亏损：-1294.08\n",
      "20190418  买入 000620.SZ (000620.SZ) 4900股，股价：4.7885,花费：23463.65,手续费：7.04，剩余现金：72240.42\n",
      "20190418  买入 600327.SH (600327.SH) 5500股，股价：4.327,花费：23798.5,手续费：7.14，剩余现金：48434.78\n",
      "20190418  买入 002619.SZ (002619.SZ) 5100股，股价：4.68,花费：23868.0,手续费：7.16，剩余现金：24559.62\n",
      "20190418  买入 600127.SH (600127.SH) 6200股，股价：3.83,花费：23746.0,手续费：7.12，剩余现金：806.5\n",
      "20190419  止损卖出 (000620.SZ) 4900股，股价：4.779,收入：23417.1,手续费：30.44，剩余现金：24193.15，最终亏损：-84.03\n",
      "20190419  止盈卖出 (600327.SH) 5500股，股价：4.3589,收入：23973.95,手续费：31.17，剩余现金：48135.94，最终盈利：137.14\n",
      "20190419  止盈卖出 (002619.SZ) 5100股，股价：4.72,收入：24072.0,手续费：31.29，剩余现金：72176.64，最终盈利：165.55\n",
      "20190419  止盈卖出 (600127.SH) 6200股，股价：3.84,收入：23808.0,手续费：30.95，剩余现金：95953.69，最终盈利：23.93\n",
      "20190426  买入 603888.SH (603888.SH) 900股，股价：24.4766,花费：22028.94,手续费：6.61，剩余现金：73918.14\n",
      "20190429  止损卖出 (603888.SH) 900股，股价：23.4008,收入：21060.72,手续费：27.38，剩余现金：94951.49，最终亏损：-1002.21\n",
      "20190430  买入 600565.SH (600565.SH) 5700股，股价：4.136,花费：23575.2,手续费：7.07，剩余现金：71369.21\n",
      "20190430  买入 603859.SH (603859.SH) 1000股，股价：21.9265,花费：21926.5,手续费：6.58，剩余现金：49436.13\n",
      "20190430  买入 002798.SZ (002798.SZ) 1100股，股价：21.1408,花费：23254.88,手续费：6.98，剩余现金：26174.28\n",
      "20190430  买入 002393.SZ (002393.SZ) 900股，股价：25.4255,花费：22882.95,手续费：6.86，剩余现金：3284.46\n",
      "20190506  止损卖出 (600565.SH) 5700股，股价：3.7354,收入：21291.78,手续费：27.68，剩余现金：24548.56，最终亏损：-2318.17\n",
      "20190506  止损卖出 (603859.SH) 1000股，股价：20.0602,收入：20060.2,手续费：26.08，剩余现金：44582.69，最终亏损：-1898.96\n",
      "20190506  止损卖出 (002798.SZ) 1100股，股价：19.0247,收入：20927.17,手续费：27.21，剩余现金：65482.65，最终亏损：-2361.89\n",
      "20190506  止损卖出 (002393.SZ) 900股，股价：23.3823,收入：21044.07,手续费：27.36，剩余现金：86499.36，最终亏损：-1873.1\n",
      "20190509  买入 603060.SH (603060.SH) 1200股，股价：17.5586,花费：21070.32,手续费：6.32，剩余现金：65422.72\n",
      "20190509  买入 002043.SZ (002043.SZ) 3700股，股价：5.7359,花费：21222.83,手续费：6.37，剩余现金：44193.53\n",
      "20190509  买入 000338.SZ (000338.SZ) 1900股，股价：10.9868,花费：20874.92,手续费：6.26，剩余现金：23312.34\n",
      "20190509  买入 600741.SH (600741.SH) 1000股，股价：20.1962,花费：20196.2,手续费：6.06，剩余现金：3110.08\n",
      "20190510  止盈卖出 (603060.SH) 1200股，股价：18.323,收入：21987.6,手续费：28.58，剩余现金：25069.1，最终盈利：882.38\n",
      "20190510  止盈卖出 (002043.SZ) 3700股，股价：5.851,收入：21648.7,手续费：28.14，剩余现金：46689.66，最终盈利：391.36\n",
      "20190510  止盈卖出 (000338.SZ) 1900股，股价：11.7302,收入：22287.38,手续费：28.97，剩余现金：68948.06，最终盈利：1377.22\n",
      "20190510  止盈卖出 (600741.SH) 1000股，股价：21.226,收入：21226.0,手续费：27.59，剩余现金：90146.47，最终盈利：996.15\n",
      "20190611  买入 603766.SH (603766.SH) 5400股，股价：4.1,花费：22140.0,手续费：6.64，剩余现金：67999.83\n",
      "20190612  止损卖出 (603766.SH) 5400股，股价：4.09,收入：22086.0,手续费：28.71，剩余现金：90057.12，最终亏损：-89.35\n",
      "20190718  买入 601579.SH (601579.SH) 2600股，股价：8.5129,花费：22133.54,手续费：6.64，剩余现金：67916.94\n",
      "20190718  买入 600201.SH (600201.SH) 1500股，股价：14.57,花费：21855.0,手续费：6.56，剩余现金：46055.38\n",
      "20190718  买入 601318.SH (601318.SH) 200股，股价：86.0088,花费：17201.76,手续费：5.16，剩余现金：28848.46\n",
      "20190718  买入 600690.SH (600690.SH) 1300股，股价：16.3304,花费：21229.52,手续费：6.37，剩余现金：7612.57\n",
      "20190718  买入 002352.SZ (002352.SZ) 200股，股价：33.3,花费：6660.0,手续费：5，剩余现金：947.57\n",
      "20190719  止损卖出 (601579.SH) 2600股，股价：8.4635,收入：22005.1,手续费：28.61，剩余现金：22924.06，最终亏损：-163.69\n",
      "20190719  止盈卖出 (600201.SH) 1500股，股价：14.59,收入：21885.0,手续费：28.45，剩余现金：44780.61，最终盈利：-5.01\n",
      "20190719  止盈卖出 (601318.SH) 200股，股价：87.6153,收入：17523.06,手续费：22.78，剩余现金：62280.89，最终盈利：293.36\n",
      "20190719  止盈卖出 (600690.SH) 1300股，股价：16.4281,收入：21356.53,手续费：27.76，剩余现金：83609.66，最终盈利：92.88\n",
      "20190719  止盈卖出 (002352.SZ) 200股，股价：34.08,收入：6816.0,手续费：11.82，剩余现金：90413.84，最终盈利：139.18\n",
      "20190801  买入 600734.SH (600734.SH) 2600股，股价：8.63,花费：22438.0,手续费：6.73，剩余现金：67969.11\n",
      "20190801  买入 002625.SZ (002625.SZ) 2400股，股价：9.16,花费：21984.0,手续费：6.6，剩余现金：45978.52\n",
      "20190801  买入 600173.SH (600173.SH) 5300股，股价：4.21,花费：22313.0,手续费：6.69，剩余现金：23658.82\n",
      "20190801  买入 000089.SZ (000089.SZ) 2300股，股价：9.44,花费：21712.0,手续费：6.51，剩余现金：1940.31\n",
      "20190802  止盈卖出 (600734.SH) 2600股，股价：8.94,收入：23244.0,手续费：30.22，剩余现金：25154.09，最终盈利：769.05\n",
      "20190802  止损卖出 (002625.SZ) 2400股，股价：8.96,收入：21504.0,手续费：27.96，剩余现金：46630.14，最终亏损：-514.55\n",
      "20190802  止损卖出 (600173.SH) 5300股，股价：4.14,收入：21942.0,手续费：28.52，剩余现金：68543.61，最终亏损：-406.22\n",
      "20190802  止盈卖出 (000089.SZ) 2300股，股价：9.48,收入：21804.0,手续费：28.35，剩余现金：90319.27，最终盈利：57.14\n",
      "20190805  买入 002577.SZ (002577.SZ) 2300股，股价：9.53,花费：21919.0,手续费：6.58，剩余现金：68393.69\n",
      "20190805  买入 000428.SZ (000428.SZ) 8300股，股价：2.71,花费：22493.0,手续费：6.75，剩余现金：45893.94\n",
      "20190805  买入 000032.SZ (000032.SZ) 2400股，股价：9.16,花费：21984.0,手续费：6.6，剩余现金：23903.35\n",
      "20190805  买入 601238.SH (601238.SH) 2100股，股价：10.6546,花费：22374.66,手续费：6.71，剩余现金：1521.98\n",
      "20190806  止损卖出 (002577.SZ) 2300股，股价：8.97,收入：20631.0,手续费：26.82，剩余现金：22126.15，最终亏损：-1321.4\n",
      "20190806  止损卖出 (000428.SZ) 8300股，股价：2.59,收入：21497.0,手续费：27.95，剩余现金：43595.21，最终亏损：-1030.69\n",
      "20190806  止损卖出 (000032.SZ) 2400股，股价：8.75,收入：21000.0,手续费：27.3，剩余现金：64567.91，最终亏损：-1017.9\n",
      "20190806  止损卖出 (601238.SH) 2100股，股价：10.5252,收入：22102.92,手续费：28.73，剩余现金：86642.1，最终亏损：-307.19\n",
      "20190918  买入 002312.SZ (002312.SZ) 5600股，股价：3.83,花费：21448.0,手续费：6.43，剩余现金：65187.66\n",
      "20190918  买入 601628.SH (601628.SH) 700股，股价：28.68,花费：20076.0,手续费：6.02，剩余现金：45105.64\n",
      "20190918  买入 601588.SH (601588.SH) 6200股，股价：3.44,花费：21328.0,手续费：6.4，剩余现金：23771.24\n",
      "20190918  买入 002800.SZ (002800.SZ) 900股，股价：22.53,花费：20277.0,手续费：6.08，剩余现金：3488.16\n",
      "20190919  止盈卖出 (002312.SZ) 5600股，股价：3.9,收入：21840.0,手续费：28.39，剩余现金：25299.76，最终盈利：357.17\n",
      "20190919  止盈卖出 (601628.SH) 700股，股价：28.81,收入：20167.0,手续费：26.22，剩余现金：45440.55，最终盈利：58.76\n",
      "20190919  止损卖出 (601588.SH) 6200股，股价：3.41,收入：21142.0,手续费：27.48，剩余现金：66555.06，最终亏损：-219.88\n",
      "20190919  止盈卖出 (002800.SZ) 900股，股价：22.69,收入：20421.0,手续费：26.55，剩余现金：86949.52，最终盈利：111.37\n",
      "20190930  买入 002509.SZ (002509.SZ) 14300股，股价：1.52,花费：21736.0,手续费：6.52，剩余现金：65206.99\n",
      "20190930  买入 002485.SZ (002485.SZ) 3200股，股价：6.77,花费：21664.0,手续费：6.5，剩余现金：43536.5\n",
      "20190930  买入 600648.SH (600648.SH) 1200股，股价：17.82,花费：21384.0,手续费：6.42，剩余现金：22146.08\n",
      "20190930  买入 600629.SH (600629.SH) 2400股，股价：8.95,花费：21480.0,手续费：6.44，剩余现金：659.64\n",
      "20191008  止损卖出 (002509.SZ) 14300股，股价：1.51,收入：21593.0,手续费：28.07，剩余现金：22224.57，最终亏损：-177.59\n",
      "20191008  止盈卖出 (002485.SZ) 3200股，股价：6.78,收入：21696.0,手续费：28.2，剩余现金：43892.36，最终盈利：-2.7\n",
      "20191008  止盈卖出 (600648.SH) 1200股，股价：18.13,收入：21756.0,手续费：28.28，剩余现金：65620.08，最终盈利：337.3\n",
      "20191008  止盈卖出 (600629.SH) 2400股，股价：8.96,收入：21504.0,手续费：27.96，剩余现金：87096.12，最终盈利：-10.4\n",
      "20191008  买入 600348.SH (600348.SH) 4100股，股价：5.19,花费：21279.0,手续费：6.38，剩余现金：65810.74\n",
      "20191008  买入 000027.SZ (000027.SZ) 3700股，股价：5.85,花费：21645.0,手续费：6.49，剩余现金：44159.25\n",
      "20191008  买入 000955.SZ (000955.SZ) 5500股，股价：3.89,花费：21395.0,手续费：6.42，剩余现金：22757.83\n",
      "20191009  止盈卖出 (600348.SH) 4100股，股价：5.2,收入：21320.0,手续费：27.72，剩余现金：44050.11，最终盈利：6.9\n",
      "20191009  止盈卖出 (000027.SZ) 3700股，股价：5.86,收入：21682.0,手续费：28.19，剩余现金：65703.92，最终盈利：2.32\n",
      "20191009  止盈卖出 (000955.SZ) 5500股，股价：4.01,收入：22055.0,手续费：28.67，剩余现金：87730.25，最终盈利：624.91\n",
      "20191029  买入 603728.SH (603728.SH) 1800股，股价：12.0,花费：21600.0,手续费：6.48，剩余现金：66123.77\n",
      "20191029  买入 600476.SH (600476.SH) 1300股，股价：16.23,花费：21099.0,手续费：6.33，剩余现金：45018.44\n",
      "20191029  买入 603533.SH (603533.SH) 1500股，股价：14.46,花费：21690.0,手续费：6.51，剩余现金：23321.94\n",
      "20191029  买入 002445.SZ (002445.SZ) 16800股，股价：1.3,花费：21840.0,手续费：6.55，剩余现金：1475.38\n",
      "20191030  止损卖出 (603728.SH) 1800股，股价：11.78,收入：21204.0,手续费：27.57，剩余现金：22651.82，最终亏损：-430.05\n",
      "20191030  止损卖出 (600476.SH) 1300股，股价：16.18,收入：21034.0,手续费：27.34，剩余现金：43658.47，最终亏损：-98.67\n",
      "20191030  止盈卖出 (603533.SH) 1500股，股价：14.91,收入：22365.0,手续费：29.07，剩余现金：65994.4，最终盈利：639.42\n",
      "20191030  止损卖出 (002445.SZ) 16800股，股价：1.24,收入：20832.0,手续费：27.08，剩余现金：86799.32，最终亏损：-1041.63\n"
     ]
    },
    {
     "name": "stdout",
     "output_type": "stream",
     "text": [
      "20191203  买入 002832.SZ (002832.SZ) 900股，股价：23.61,花费：21249.0,手续费：6.37，剩余现金：65543.94\n",
      "20191203  买入 002392.SZ (002392.SZ) 6000股，股价：3.56,花费：21360.0,手续费：6.41，剩余现金：44177.54\n",
      "20191203  买入 002758.SZ (002758.SZ) 2100股，股价：10.23,花费：21483.0,手续费：6.44，剩余现金：22688.09\n",
      "20191203  买入 603658.SH (603658.SH) 200股，股价：98.3,花费：19660.0,手续费：5.9，剩余现金：3022.19\n",
      "20191204  止盈卖出 (002832.SZ) 900股，股价：23.72,收入：21348.0,手续费：27.75，剩余现金：24342.44，最终盈利：64.87\n",
      "20191204  止盈卖出 (002392.SZ) 6000股，股价：3.57,收入：21420.0,手续费：27.85，剩余现金：45734.59，最终盈利：25.75\n",
      "20191204  止损卖出 (002758.SZ) 2100股，股价：10.14,收入：21294.0,手续费：27.68，剩余现金：67000.91，最终亏损：-223.13\n",
      "20191204  止盈卖出 (603658.SH) 200股，股价：100.79,收入：20158.0,手续费：26.21，剩余现金：87132.71，最终盈利：465.9\n",
      "20200121  买入 000607.SZ (000607.SZ) 4300股，股价：5.05,花费：21715.0,手续费：6.51，剩余现金：65411.19\n",
      "20200121  买入 601579.SH (601579.SH) 2500股，股价：8.55,花费：21375.0,手续费：6.41，剩余现金：44029.78\n",
      "20200121  买入 603602.SH (603602.SH) 900股，股价：22.88,花费：20592.0,手续费：6.18，剩余现金：23431.6\n",
      "20200121  买入 000606.SZ (000606.SZ) 4000股，股价：5.37,花费：21480.0,手续费：6.44，剩余现金：1945.16\n",
      "20200122  止损卖出 (000607.SZ) 4300股，股价：4.98,收入：21414.0,手续费：27.84，剩余现金：23331.32，最终亏损：-335.35\n",
      "20200122  止盈卖出 (601579.SH) 2500股，股价：8.64,收入：21600.0,手续费：28.08，剩余现金：44903.24，最终盈利：190.51\n",
      "20200122  止盈卖出 (603602.SH) 900股，股价：23.03,收入：20727.0,手续费：26.95，剩余现金：65603.29，最终盈利：101.88\n",
      "20200122  止损卖出 (000606.SZ) 4000股，股价：5.27,收入：21080.0,手续费：27.4，剩余现金：86655.89，最终亏损：-433.85\n",
      "20200123  买入 600550.SH (600550.SH) 6800股，股价：3.17,花费：21556.0,手续费：6.47，剩余现金：65093.42\n",
      "20200123  买入 603578.SH (603578.SH) 900股，股价：22.0,花费：19800.0,手续费：5.94，剩余现金：45287.48\n",
      "20200123  买入 002666.SZ (002666.SZ) 3500股，股价：6.02,花费：21070.0,手续费：6.32，剩余现金：24211.16\n",
      "20200123  买入 600790.SH (600790.SH) 6400股，股价：3.35,花费：21440.0,手续费：6.43，剩余现金：2764.73\n",
      "20200203  止损卖出 (600550.SH) 6800股，股价：2.85,收入：19380.0,手续费：25.19，剩余现金：22119.54，最终亏损：-2207.66\n",
      "20200203  止损卖出 (603578.SH) 900股，股价：19.8,收入：17820.0,手续费：23.17，剩余现金：39916.37，最终亏损：-2009.11\n",
      "20200203  止损卖出 (002666.SZ) 3500股，股价：5.42,收入：18970.0,手续费：24.66，剩余现金：58861.71，最终亏损：-2130.98\n",
      "20200203  止损卖出 (600790.SH) 6400股，股价：3.02,收入：19328.0,手续费：25.13，剩余现金：78164.58，最终亏损：-2143.56\n",
      "20200318  买入 002370.SZ (002370.SZ) 3700股，股价：5.18,花费：19166.0,手续费：5.75，剩余现金：58992.83\n",
      "20200318  买入 000899.SZ (000899.SZ) 4500股，股价：4.28,花费：19260.0,手续费：5.78，剩余现金：39727.06\n",
      "20200318  买入 603496.SH (603496.SH) 800股，股价：23.58,花费：18864.0,手续费：5.66，剩余现金：20857.4\n",
      "20200318  买入 000523.SZ (000523.SZ) 2900股，股价：6.58,花费：19082.0,手续费：5.72，剩余现金：1769.67\n",
      "20200319  止损卖出 (002370.SZ) 3700股，股价：5.13,收入：18981.0,手续费：24.68，剩余现金：20726.0，最终亏损：-215.43\n",
      "20200319  止盈卖出 (000899.SZ) 4500股，股价：4.33,收入：19485.0,手续费：25.33，剩余现金：40185.67，最终盈利：193.89\n",
      "20200319  止盈卖出 (603496.SH) 800股，股价：23.85,收入：19080.0,手续费：24.8，剩余现金：59240.86，最终盈利：185.54\n",
      "20200319  止损卖出 (000523.SZ) 2900股，股价：6.51,收入：18879.0,手续费：24.54，剩余现金：78095.32，最终亏损：-233.27\n",
      "20200323  买入 600900.SH (600900.SH) 1100股，股价：16.52,花费：18172.0,手续费：5.45，剩余现金：59917.87\n",
      "20200323  买入 002275.SZ (002275.SZ) 1500股，股价：12.51,花费：18765.0,手续费：5.63，剩余现金：41147.24\n",
      "20200323  买入 601949.SH (601949.SH) 3700股，股价：5.18,花费：19166.0,手续费：5.75，剩余现金：21975.49\n",
      "20200324  止盈卖出 (600900.SH) 1100股，股价：16.91,收入：18601.0,手续费：24.18，剩余现金：40552.31，最终盈利：399.37\n",
      "20200324  止盈卖出 (002275.SZ) 1500股，股价：12.8,收入：19200.0,手续费：24.96，剩余现金：59727.35，最终盈利：404.41\n",
      "20200324  止盈卖出 (601949.SH) 3700股，股价：5.27,收入：19499.0,手续费：25.35，剩余现金：79201.0，最终盈利：301.9\n"
     ]
    }
   ],
   "source": [
    "from imp import reload\n",
    "import Account\n",
    "reload(Account)\n",
    "money_init = 100000\n",
    "account = Account.Account(money_init)\n",
    "account.BackTest(buy_df, sorted(day_list), buy_price='close')"
   ]
  },
  {
   "cell_type": "code",
   "execution_count": 176,
   "metadata": {},
   "outputs": [
    {
     "data": {
      "text/html": [
       "<div>\n",
       "<style scoped>\n",
       "    .dataframe tbody tr th:only-of-type {\n",
       "        vertical-align: middle;\n",
       "    }\n",
       "\n",
       "    .dataframe tbody tr th {\n",
       "        vertical-align: top;\n",
       "    }\n",
       "\n",
       "    .dataframe thead th {\n",
       "        text-align: right;\n",
       "    }\n",
       "</style>\n",
       "<table border=\"1\" class=\"dataframe\">\n",
       "  <thead>\n",
       "    <tr style=\"text-align: right;\">\n",
       "      <th></th>\n",
       "      <th>label</th>\n",
       "      <th>prob</th>\n",
       "      <th>name</th>\n",
       "      <th>trade_date</th>\n",
       "      <th>pred_label</th>\n",
       "      <th>close</th>\n",
       "      <th>high</th>\n",
       "      <th>low</th>\n",
       "      <th>next_close</th>\n",
       "      <th>is_limit_up</th>\n",
       "      <th>day</th>\n",
       "      <th>close_price</th>\n",
       "      <th>label2</th>\n",
       "    </tr>\n",
       "  </thead>\n",
       "  <tbody>\n",
       "  </tbody>\n",
       "</table>\n",
       "</div>"
      ],
      "text/plain": [
       "Empty DataFrame\n",
       "Columns: [label, prob, name, trade_date, pred_label, close, high, low, next_close, is_limit_up, day, close_price, label2]\n",
       "Index: []"
      ]
     },
     "execution_count": 176,
     "metadata": {},
     "output_type": "execute_result"
    }
   ],
   "source": [
    "buy_df[buy_df['label']!=buy_df['label2']]"
   ]
  },
  {
   "cell_type": "code",
   "execution_count": 170,
   "metadata": {},
   "outputs": [
    {
     "name": "stdout",
     "output_type": "stream",
     "text": [
      "账户盈利情况:-0.2080\n",
      "交易胜率:0.4857\n",
      "最大回撤率:0.2192\n"
     ]
    }
   ],
   "source": [
    "account_profit = (account.market_value - money_init) / money_init\n",
    "win_rate = account.victory / (account.victory + account.defeat)\n",
    "print('账户盈利情况:%.4f' % account_profit)\n",
    "print('交易胜率:%.4f' % win_rate)\n",
    "print('最大回撤率:%.4f' % account.max_retracement)"
   ]
  },
  {
   "cell_type": "code",
   "execution_count": 171,
   "metadata": {},
   "outputs": [
    {
     "data": {
      "image/png": "[encoded data removed]",
      "text/plain": [
       "<Figure size 432x288 with 1 Axes>"
      ]
     },
     "metadata": {
      "needs_background": "light"
     },
     "output_type": "display_data"
    }
   ],
   "source": [
    "import matplotlib.pyplot as plt\n",
    "%matplotlib inline\n",
    "plt.figure()\n",
    "plt.plot(account.market_value_all)\n",
    "plt.show()"
   ]
  },
  {
   "cell_type": "code",
   "execution_count": null,
   "metadata": {},
   "outputs": [],
   "source": []
  }
 ],
 "metadata": {
  "kernelspec": {
   "display_name": "Python 3",
   "language": "python",
   "name": "python3"
  },
  "language_info": {
   "codemirror_mode": {
    "name": "ipython",
    "version": 3
   },
   "file_extension": ".py",
   "mimetype": "text/x-python",
   "name": "python",
   "nbconvert_exporter": "python",
   "pygments_lexer": "ipython3",
   "version": "3.7.1"
  }
 },
 "nbformat": 4,
 "nbformat_minor": 4
}
